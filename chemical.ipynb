{
 "cells": [
  {
   "cell_type": "code",
   "execution_count": 4,
   "id": "17a31bf6-b650-4dc5-aaa9-1e915392ce22",
   "metadata": {},
   "outputs": [],
   "source": [
    "from gurobipy import read"
   ]
  },
  {
   "cell_type": "code",
   "execution_count": 6,
   "id": "53eaa38a-dfc7-427d-a02d-5f387a4e963a",
   "metadata": {},
   "outputs": [
    {
     "name": "stdout",
     "output_type": "stream",
     "text": [
      "Read LP format model from file chemical.lp\n",
      "Reading time = 0.00 seconds\n",
      ": 3 rows, 2 columns, 5 nonzeros\n"
     ]
    }
   ],
   "source": [
    "m = read('chemical.lp')"
   ]
  },
  {
   "cell_type": "code",
   "execution_count": 7,
   "id": "f02b40d7-ade3-4010-a723-e5998a0dd988",
   "metadata": {},
   "outputs": [
    {
     "name": "stdout",
     "output_type": "stream",
     "text": [
      "Gurobi Optimizer version 12.0.3 build v12.0.3rc0 (mac64[arm] - Darwin 22.6.0 22H527)\n",
      "\n",
      "CPU model: Apple M1\n",
      "Thread count: 8 physical cores, 8 logical processors, using up to 8 threads\n",
      "\n",
      "Optimize a model with 3 rows, 2 columns and 5 nonzeros\n",
      "Model fingerprint: 0xe71688ec\n",
      "Coefficient statistics:\n",
      "  Matrix range     [1e+00, 4e+00]\n",
      "  Objective range  [4e+01, 5e+01]\n",
      "  Bounds range     [0e+00, 0e+00]\n",
      "  RHS range        [4e+01, 2e+02]\n",
      "Presolve removed 1 rows and 0 columns\n",
      "Presolve time: 0.01s\n",
      "Presolved: 2 rows, 2 columns, 4 nonzeros\n",
      "\n",
      "Iteration    Objective       Primal Inf.    Dual Inf.      Time\n",
      "       0    2.5000000e+03   3.750000e+00   0.000000e+00      0s\n",
      "       2    2.3000000e+03   0.000000e+00   0.000000e+00      0s\n",
      "\n",
      "Solved in 2 iterations and 0.01 seconds (0.00 work units)\n",
      "Optimal objective  2.300000000e+03\n"
     ]
    }
   ],
   "source": [
    "m.optimize()   # optimize model m"
   ]
  },
  {
   "cell_type": "code",
   "execution_count": 8,
   "id": "b604eb82-4f12-40b2-a385-73f594e30175",
   "metadata": {},
   "outputs": [
    {
     "name": "stdout",
     "output_type": "stream",
     "text": [
      "\n",
      "    Variable            X \n",
      "-------------------------\n",
      "         NH3           20 \n",
      "       NH4Cl           30 \n"
     ]
    }
   ],
   "source": [
    "m.printAttr('X')   # print variable values in the optimal solution of m"
   ]
  },
  {
   "cell_type": "code",
   "execution_count": 9,
   "id": "6dc51eab-d6a8-4f90-8968-709da6431ba3",
   "metadata": {},
   "outputs": [],
   "source": [
    "v = m.getVars()   # assign the list of variables to v"
   ]
  },
  {
   "cell_type": "code",
   "execution_count": 10,
   "id": "7d799d43-4a31-4f76-978c-d5a531ac359a",
   "metadata": {},
   "outputs": [
    {
     "data": {
      "text/plain": [
       "'NH3'"
      ]
     },
     "execution_count": 10,
     "metadata": {},
     "output_type": "execute_result"
    }
   ],
   "source": [
    "v[0].varName   # output the variable name of variable indexed 0"
   ]
  },
  {
   "cell_type": "code",
   "execution_count": 11,
   "id": "307cdbc5-910b-400b-a330-3fe010e373f5",
   "metadata": {},
   "outputs": [],
   "source": [
    "v[0].ub = 15   # change the upper bound on variable indexed 0 to 15"
   ]
  },
  {
   "cell_type": "code",
   "execution_count": 12,
   "id": "f9c8685b-749b-4c5e-852b-c3fb7f2b9c67",
   "metadata": {},
   "outputs": [
    {
     "name": "stdout",
     "output_type": "stream",
     "text": [
      "Gurobi Optimizer version 12.0.3 build v12.0.3rc0 (mac64[arm] - Darwin 22.6.0 22H527)\n",
      "\n",
      "CPU model: Apple M1\n",
      "Thread count: 8 physical cores, 8 logical processors, using up to 8 threads\n",
      "\n",
      "Optimize a model with 3 rows, 2 columns and 5 nonzeros\n",
      "Coefficient statistics:\n",
      "  Matrix range     [1e+00, 4e+00]\n",
      "  Objective range  [4e+01, 5e+01]\n",
      "  Bounds range     [2e+01, 2e+01]\n",
      "  RHS range        [4e+01, 2e+02]\n",
      "\n",
      "Iteration    Objective       Primal Inf.    Dual Inf.      Time\n",
      "       0    2.3000000e+03   5.000000e+00   0.000000e+00      0s\n",
      "       1    2.2875000e+03   0.000000e+00   0.000000e+00      0s\n",
      "\n",
      "Solved in 1 iterations and 0.01 seconds (0.00 work units)\n",
      "Optimal objective  2.287500000e+03\n"
     ]
    }
   ],
   "source": [
    "m.optimize()   # re-optimize with the new upper bound"
   ]
  },
  {
   "cell_type": "code",
   "execution_count": 13,
   "id": "56f7874b-1af0-426e-b9a4-87403fa8cddb",
   "metadata": {},
   "outputs": [
    {
     "name": "stdout",
     "output_type": "stream",
     "text": [
      "\n",
      "    Variable            X \n",
      "-------------------------\n",
      "         NH3           15 \n",
      "       NH4Cl        33.75 \n"
     ]
    }
   ],
   "source": [
    "m.printAttr('X')"
   ]
  },
  {
   "cell_type": "code",
   "execution_count": null,
   "id": "3666de6a-4a88-49b9-a1ec-9f96ad380340",
   "metadata": {},
   "outputs": [],
   "source": []
  }
 ],
 "metadata": {
  "kernelspec": {
   "display_name": "Python 3 (ipykernel)",
   "language": "python",
   "name": "python3"
  },
  "language_info": {
   "codemirror_mode": {
    "name": "ipython",
    "version": 3
   },
   "file_extension": ".py",
   "mimetype": "text/x-python",
   "name": "python",
   "nbconvert_exporter": "python",
   "pygments_lexer": "ipython3",
   "version": "3.13.3"
  }
 },
 "nbformat": 4,
 "nbformat_minor": 5
}
